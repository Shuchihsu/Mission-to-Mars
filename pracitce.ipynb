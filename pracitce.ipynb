{
 "cells": [
  {
   "cell_type": "code",
   "execution_count": 5,
   "id": "bca9ed90",
   "metadata": {},
   "outputs": [
    {
     "name": "stdout",
     "output_type": "stream",
     "text": [
      "\n"
     ]
    },
    {
     "name": "stderr",
     "output_type": "stream",
     "text": [
      "[WDM] - ====== WebDriver manager ======\n",
      "[WDM] - Current google-chrome version is 103.0.5060\n",
      "[WDM] - Get LATEST chromedriver version for 103.0.5060 google-chrome\n",
      "[WDM] - Driver [C:\\Users\\julie\\.wdm\\drivers\\chromedriver\\win32\\103.0.5060.53\\chromedriver.exe] found in cache\n"
     ]
    },
    {
     "name": "stdout",
     "output_type": "stream",
     "text": [
      "Python              : 3.10.5 | packaged by conda-forge | (main, Jun 14 2022, 06:57:19) [MSC v.1929 64 bit (AMD64)]\n",
      "                    : sys.version_info(major=3, minor=10, micro=5, releaselevel='final', serial=0)\n",
      "Selenium            : 4.2.0\n",
      "Splinter            : 0.18.1\n",
      "Webdriver Manager   : 3.7.1\n"
     ]
    }
   ],
   "source": [
    "import pandas as pd\n",
    "\n",
    "from bs4 import BeautifulSoup as soup\n",
    "\n",
    "# selenium 4\n",
    "import selenium\n",
    "from selenium import webdriver\n",
    "from selenium.webdriver.chrome.service import Service\n",
    "import webdriver_manager\n",
    "from webdriver_manager.chrome import ChromeDriverManager\n",
    "\n",
    "#driver = webdriver.Chrome(service=Service(ChromeDriverManager().install()))\n",
    "\n",
    "import splinter\n",
    "from splinter import Browser\n",
    "executable_path = {'executable_path': ChromeDriverManager().install()}\n",
    "browser         = Browser('chrome', **executable_path, headless=False)\n",
    "\n",
    "import sys\n",
    "print(f\"{'Python':<20}: {sys.version}\")\n",
    "print(f\"{'':<20}: {sys.version_info}\")\n",
    "print(f\"{'Selenium':<20}: {selenium.__version__}\")\n",
    "print(f\"{'Splinter':<20}: {splinter.__version__}\")\n",
    "print(f\"{'Webdriver Manager':<20}: {webdriver_manager.__version__}\")"
   ]
  },
  {
   "cell_type": "code",
   "execution_count": 21,
   "id": "f87ca093",
   "metadata": {},
   "outputs": [],
   "source": [
    "url =\"http://books.toscrape.com/\"\n",
    "browser.visit(url)"
   ]
  },
  {
   "cell_type": "code",
   "execution_count": 34,
   "id": "e914566c",
   "metadata": {},
   "outputs": [
    {
     "name": "stdout",
     "output_type": "stream",
     "text": [
      "http://books.toscrape.com/catalogue/benjamin-franklin-an-american-life_460/index.html\n",
      "http://books.toscrape.com/catalogue/at-the-existentialist-cafe-freedom-being-and-apricot-cocktails-with-jean-paul-sartre-simone-de-beauvoir-albert-camus-martin-heidegger-edmund-husserl-karl-jaspers-maurice-merleau-ponty-and-others_459/index.html\n",
      "http://books.toscrape.com/catalogue/a-summer-in-europe_458/index.html\n",
      "http://books.toscrape.com/catalogue/a-short-history-of-nearly-everything_457/index.html\n",
      "http://books.toscrape.com/catalogue/a-gathering-of-shadows-shades-of-magic-2_456/index.html\n",
      "http://books.toscrape.com/catalogue/the-sound-of-love_455/index.html\n",
      "http://books.toscrape.com/catalogue/the-rise-and-fall-of-the-third-reich-a-history-of-nazi-germany_454/index.html\n",
      "http://books.toscrape.com/catalogue/the-perks-of-being-a-wallflower_453/index.html\n",
      "http://books.toscrape.com/catalogue/the-mysterious-affair-at-styles-hercule-poirot-1_452/index.html\n",
      "http://books.toscrape.com/catalogue/the-man-who-mistook-his-wife-for-a-hat-and-other-clinical-tales_451/index.html\n",
      "http://books.toscrape.com/catalogue/the-makings-of-a-fatherless-child_450/index.html\n",
      "http://books.toscrape.com/catalogue/the-joy-of-cooking_449/index.html\n",
      "http://books.toscrape.com/catalogue/the-invention-of-wings_448/index.html\n",
      "http://books.toscrape.com/catalogue/the-hobbit-middle-earth-universe_447/index.html\n",
      "http://books.toscrape.com/catalogue/the-great-railway-bazaar_446/index.html\n",
      "http://books.toscrape.com/catalogue/the-golden-compass-his-dark-materials-1_445/index.html\n",
      "http://books.toscrape.com/catalogue/the-god-delusion_444/index.html\n",
      "http://books.toscrape.com/catalogue/the-girl-you-left-behind-the-girl-you-left-behind-1_443/index.html\n",
      "http://books.toscrape.com/catalogue/the-fellowship-of-the-ring-the-lord-of-the-rings-1_442/index.html\n",
      "http://books.toscrape.com/catalogue/the-collected-poems-of-wb-yeats-the-collected-works-of-wb-yeats-1_441/index.html\n"
     ]
    }
   ],
   "source": [
    "# for x in range(1,10):\n",
    "html= browser.html\n",
    "html_soup = soup(html,'html.parser')\n",
    "#urls = html_soup.find_all('a',class_='href')\n",
    "urls = html_soup.find_all('div',class_='image_container')\n",
    "#print(urls)\n",
    "#urls.find('a')['href']\n",
    "for url in urls:\n",
    "    print(\"http://books.toscrape.com/catalogue/\"+url.find('a')['href'])\n",
    "    #print(url)\n",
    "#browser.links.find_by_partial_text('next').click()\n",
    "#http://books.toscrape.com/catalogue/in-her-wake_980/index.html"
   ]
  },
  {
   "cell_type": "code",
   "execution_count": 10,
   "id": "3d50e39d",
   "metadata": {},
   "outputs": [],
   "source": []
  },
  {
   "cell_type": "code",
   "execution_count": null,
   "id": "240397c5",
   "metadata": {},
   "outputs": [],
   "source": []
  }
 ],
 "metadata": {
  "kernelspec": {
   "display_name": "data-10-missiontomars",
   "language": "python",
   "name": "data-10-missiontomars"
  },
  "language_info": {
   "codemirror_mode": {
    "name": "ipython",
    "version": 3
   },
   "file_extension": ".py",
   "mimetype": "text/x-python",
   "name": "python",
   "nbconvert_exporter": "python",
   "pygments_lexer": "ipython3",
   "version": "3.10.5"
  }
 },
 "nbformat": 4,
 "nbformat_minor": 5
}
